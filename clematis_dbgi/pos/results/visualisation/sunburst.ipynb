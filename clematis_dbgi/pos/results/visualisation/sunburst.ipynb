{
 "cells": [
  {
   "cell_type": "code",
   "execution_count": 2,
   "metadata": {},
   "outputs": [
    {
     "ename": "ModuleNotFoundError",
     "evalue": "No module named 'numpy'",
     "output_type": "error",
     "traceback": [
      "\u001b[1;31m---------------------------------------------------------------------------\u001b[0m",
      "\u001b[1;31mModuleNotFoundError\u001b[0m                       Traceback (most recent call last)",
      "\u001b[1;32mc:\\Users\\Lecab\\gitrepo\\plantes_ornementales\\ornamental\\clematis_dbgi\\pos\\results\\visualisation\\sunburst.ipynb Cell 1\u001b[0m line \u001b[0;36m1\n\u001b[1;32m----> <a href='vscode-notebook-cell:/c%3A/Users/Lecab/gitrepo/plantes_ornementales/ornamental/clematis_dbgi/pos/results/visualisation/sunburst.ipynb#W0sZmlsZQ%3D%3D?line=0'>1</a>\u001b[0m \u001b[39mimport\u001b[39;00m \u001b[39mnumpy\u001b[39;00m \u001b[39mas\u001b[39;00m \u001b[39mnp\u001b[39;00m\n\u001b[0;32m      <a href='vscode-notebook-cell:/c%3A/Users/Lecab/gitrepo/plantes_ornementales/ornamental/clematis_dbgi/pos/results/visualisation/sunburst.ipynb#W0sZmlsZQ%3D%3D?line=1'>2</a>\u001b[0m \u001b[39mimport\u001b[39;00m \u001b[39mpandas\u001b[39;00m \u001b[39mas\u001b[39;00m \u001b[39mpd\u001b[39;00m\n\u001b[0;32m      <a href='vscode-notebook-cell:/c%3A/Users/Lecab/gitrepo/plantes_ornementales/ornamental/clematis_dbgi/pos/results/visualisation/sunburst.ipynb#W0sZmlsZQ%3D%3D?line=2'>3</a>\u001b[0m \u001b[39mimport\u001b[39;00m \u001b[39mplotly\u001b[39;00m\u001b[39m.\u001b[39;00m\u001b[39mexpress\u001b[39;00m \u001b[39mas\u001b[39;00m \u001b[39mpx\u001b[39;00m\n",
      "\u001b[1;31mModuleNotFoundError\u001b[0m: No module named 'numpy'"
     ]
    }
   ],
   "source": [
    "import numpy as np\n",
    "import pandas as pd\n",
    "import plotly.express as px\n",
    "import plotly.graph_objects as go\n",
    "import grequests\n",
    "import urllib.parse\n",
    "from tqdm import tqdm\n",
    "import os \n",
    "from sklearn.decomposition import PCA\n",
    "import matplotlib.pyplot as plt"
   ]
  },
  {
   "cell_type": "code",
   "execution_count": null,
   "metadata": {},
   "outputs": [],
   "source": [
    "def sunburst_count_plotter(repository_path, canopus_df, organism):\n",
    "            \n",
    "    canopus_df = canopus_df[['row ID','NPC#pathway', 'NPC#superclass', 'NPC#class']]\n",
    "    canopus_df = canopus_df.replace({np.nan:'None'})\n",
    "\n",
    "    #generate treemap        \n",
    "    fig1 = px.treemap(canopus_df, path=['NPC#pathway', 'NPC#superclass', 'NPC#class'],\n",
    "                    color='NPC#pathway',\n",
    "                    color_discrete_map={\n",
    "                        'Terpenoids':'#44AA99',\n",
    "                        'Alkaloids': '#88CCEE',\n",
    "                        'Amino acids and Peptides': '#DDCC77',\n",
    "                        'Polyketides': '#CC6677',\n",
    "                        'Shikimates and Phenylpropanoids': '#AA4499',\n",
    "                        'Fatty acids': '#882255',\n",
    "                        'Carbohydrates': '#F4A261',})\n",
    "    fig1.update_layout(margin = dict(t=50, l=25, r=25, b=25),\n",
    "    title_text=\" (\"  +  organism + \") \" + \"- metabolite annotation overview (size proportional to number of annotations)\")\n",
    "    fig1.update_annotations(font_size=18, font_family=\"sans-serif\")\n",
    "    \n",
    "\n",
    "    #generate sunburst\n",
    "\n",
    "    fig2 = px.sunburst(canopus_df, path=['NPC#pathway', 'NPC#superclass', 'NPC#class'],\n",
    "                    color='NPC#pathway',\n",
    "                    color_discrete_map={\n",
    "                        'Terpenoids':'#44AA99',\n",
    "                        'Alkaloids': '#88CCEE',\n",
    "                        'Amino acids and Peptides': '#DDCC77',\n",
    "                        'Polyketides': '#CC6677',\n",
    "                        'Shikimates and Phenylpropanoids': '#AA4499',\n",
    "                        'Fatty acids': '#882255',\n",
    "                        'Carbohydrates': '#F4A261',})\n",
    "    fig2.update_layout(margin = dict(t=50, l=25, r=25, b=25),\n",
    "    title_text= \" (\"  +  organism + \") \" + \"- metabolite annotation overview (size proportional to number of annotations)\")\n",
    "    fig2.update_annotations(font_size=18, font_family=\"sans-serif\")\n",
    "    \n",
    "    path = os.path.normpath(repository_path)\n",
    "    pathout = os.path.join(path, 'results/')\n",
    "    os.makedirs(pathout, exist_ok=True)\n",
    "    pathout_treemap = os.path.join(pathout, 'treemap_pos.html')\n",
    "    pathout_sunburst = os.path.join(pathout, 'sunburst_pos.html')\n",
    "    fig1.write_html(pathout_treemap)\n",
    "    fig2.write_html(pathout_sunburst)"
   ]
  }
 ],
 "metadata": {
  "kernelspec": {
   "display_name": "base",
   "language": "python",
   "name": "python3"
  },
  "language_info": {
   "codemirror_mode": {
    "name": "ipython",
    "version": 3
   },
   "file_extension": ".py",
   "mimetype": "text/x-python",
   "name": "python",
   "nbconvert_exporter": "python",
   "pygments_lexer": "ipython3",
   "version": "3.11.4"
  }
 },
 "nbformat": 4,
 "nbformat_minor": 2
}
