{
 "cells": [
  {
   "cell_type": "code",
   "execution_count": 6,
   "metadata": {},
   "outputs": [],
   "source": [
    "import numpy as np\n",
    "import pandas as pd\n",
    "import plotly.express as px\n",
    "import plotly.graph_objects as go\n",
    "import grequests\n",
    "import urllib.parse\n",
    "from tqdm import tqdm\n",
    "import os \n",
    "from sklearn.decomposition import PCA\n",
    "import matplotlib.pyplot as plt"
   ]
  },
  {
   "cell_type": "code",
   "execution_count": 11,
   "metadata": {},
   "outputs": [],
   "source": [
    "repository_path = '/home/user/Documents/Audrey/gitrepo/ornamental/clematis_dbgi/pos/results/visualisation'\n",
    "canopus_table_path = '/home/user/Documents/Audrey/large files/clematis_dbgi/clematis_10_species_231128_qtof/canopus_formula_summary_adducts.tsv' \n",
    "annotations_table_path = '/home/user/Documents/Audrey/large files/clematis_dbgi/clematis_10_species_231128_qtof/compound_identifications_adducts.tsv'\n",
    "\n",
    "min_ZodiacScore = 0.9             #cut-off filter for considering a sirius annotation valable. It is used in combination with min_ConfidenceScore.\n",
    "min_ConfidenceScore= 0.0         #cut-off filter for considering a sirius annotation valable. '0.0' as default.\n",
    "min_class_confidence = 0.8       #cut-off filter for considering a sirius class valable. It is used in combination with min_recurrence.\n"
   ]
  },
  {
   "cell_type": "markdown",
   "metadata": {},
   "source": [
    "### Fonction sunburst def"
   ]
  },
  {
   "cell_type": "code",
   "execution_count": 12,
   "metadata": {},
   "outputs": [],
   "source": [
    "def sunburst_count_plotter(repository_path, canopus_df, organism):\n",
    "            \n",
    "    canopus_df = canopus_df[['row ID','NPC#pathway', 'NPC#superclass', 'NPC#class']]\n",
    "    canopus_df = canopus_df.replace({np.nan:'None'})\n",
    "\n",
    "    #generate treemap        \n",
    "    fig1 = px.treemap(canopus_df, path=['NPC#pathway', 'NPC#superclass', 'NPC#class'],\n",
    "                    color='NPC#pathway',\n",
    "                    color_discrete_map={\n",
    "                        'Terpenoids':'#AA4444',\n",
    "                        'Alkaloids': '#4477AA',\n",
    "                        'Amino acids and Peptides': '#DDCC77',\n",
    "                        'Polyketides': '#AAA744',\n",
    "                        'Shikimates and Phenylpropanoids': 'CF63A5',\n",
    "                        'Fatty acids': '#882255',\n",
    "                        'Carbohydrates': '#F4A261',})\n",
    "    fig1.update_layout(margin = dict(t=50, l=25, r=25, b=25),\n",
    "    title_text=\" (\"  +  organism + \") \" + \"- metabolite annotation overview (size proportional to number of annotations)\")\n",
    "    fig1.update_annotations(font_size=18, font_family=\"sans-serif\")\n",
    "    \n",
    "\n",
    "    #generate sunburst\n",
    "\n",
    "    fig2 = px.sunburst(canopus_df, path=['NPC#pathway', 'NPC#superclass', 'NPC#class'],\n",
    "                    color='NPC#pathway',\n",
    "                    color_discrete_map={\n",
    "                        'Terpenoids':'#AA4444',\n",
    "                        'Alkaloids': '#4477AA',\n",
    "                        'Amino acids and Peptides': '#DDCC77',\n",
    "                        'Polyketides': '#AAA744',\n",
    "                        'Shikimates and Phenylpropanoids': 'CF63A5',\n",
    "                        'Fatty acids': '#882255',\n",
    "                        'Carbohydrates': '#F4A261',})\n",
    "    fig2.update_layout(margin = dict(t=50, l=25, r=25, b=25),\n",
    "    title_text= \" (\"  +  organism + \") \" + \"- metabolite annotation overview (size proportional to number of annotations)\")\n",
    "    fig2.update_annotations(font_size=18, font_family=\"sans-serif\")\n",
    "    \n",
    "    path = os.path.normpath(repository_path)\n",
    "    pathout = os.path.join(path, 'results/')\n",
    "    os.makedirs(pathout, exist_ok=True)\n",
    "    pathout_treemap = os.path.join(pathout, 'clematis_10_species_crop_treemap_pos_qtof.html')\n",
    "    pathout_sunburst = os.path.join(pathout, 'clematis_10_species_crop_sunburst_pos_qtof.html')\n",
    "    fig1.write_html(pathout_treemap)\n",
    "    fig2.write_html(pathout_sunburst)"
   ]
  },
  {
   "cell_type": "markdown",
   "metadata": {},
   "source": [
    "### Canopus"
   ]
  },
  {
   "cell_type": "code",
   "execution_count": 13,
   "metadata": {},
   "outputs": [],
   "source": [
    "canopus_df = pd.read_csv(canopus_table_path, sep='\\t')\n",
    "canopus_df = canopus_df[['id', 'molecularFormula', 'adduct', 'NPC#pathway',\n",
    "       'NPC#pathway Probability', 'NPC#superclass',\n",
    "       'NPC#superclass Probability', 'NPC#class', 'NPC#class Probability']]\n",
    "canopus_df.rename(columns={'NPC#class Probability': 'classProbability'}, inplace=True) \n",
    "canopus_df['shared name'] = canopus_df['id'].str.split('_').str[-1].astype(int)\n",
    "canopus_df.drop('id', axis=1, inplace=True)\n",
    "canopus_df.rename(columns={'shared name': 'row ID', 'adduct': 'adduct (sirius)', 'molecularFormula': 'MF (sirius)', 'name': 'Compound name (sirius)'}, inplace=True) \n",
    "canopus_df.drop(canopus_df[canopus_df.classProbability > min_class_confidence].index, inplace=True)\n",
    "canopus_df.drop(['classProbability', 'NPC#superclass Probability', 'NPC#pathway Probability'], axis=1, inplace=True)\n",
    "\n",
    "#aggregate features \n",
    "agg_func = {'adduct (sirius)': set, 'MF (sirius)': 'first', 'NPC#pathway': 'first', 'NPC#superclass': 'first', 'NPC#class': 'first'}\n",
    "canopus_df = canopus_df.groupby('row ID', as_index=False).agg(agg_func)\n"
   ]
  },
  {
   "cell_type": "code",
   "execution_count": 14,
   "metadata": {},
   "outputs": [
    {
     "data": {
      "text/plain": [
       "364"
      ]
     },
     "execution_count": 14,
     "metadata": {},
     "output_type": "execute_result"
    }
   ],
   "source": [
    "#total number of unique molecular formulas\n",
    "canopus_df.shape[0]"
   ]
  },
  {
   "cell_type": "code",
   "execution_count": 15,
   "metadata": {},
   "outputs": [
    {
     "data": {
      "text/html": [
       "<div>\n",
       "<style scoped>\n",
       "    .dataframe tbody tr th:only-of-type {\n",
       "        vertical-align: middle;\n",
       "    }\n",
       "\n",
       "    .dataframe tbody tr th {\n",
       "        vertical-align: top;\n",
       "    }\n",
       "\n",
       "    .dataframe thead th {\n",
       "        text-align: right;\n",
       "    }\n",
       "</style>\n",
       "<table border=\"1\" class=\"dataframe\">\n",
       "  <thead>\n",
       "    <tr style=\"text-align: right;\">\n",
       "      <th></th>\n",
       "      <th>row ID</th>\n",
       "      <th>adduct (sirius)</th>\n",
       "      <th>MF (sirius)</th>\n",
       "      <th>NPC#superclass</th>\n",
       "      <th>NPC#class</th>\n",
       "    </tr>\n",
       "    <tr>\n",
       "      <th>NPC#pathway</th>\n",
       "      <th></th>\n",
       "      <th></th>\n",
       "      <th></th>\n",
       "      <th></th>\n",
       "      <th></th>\n",
       "    </tr>\n",
       "  </thead>\n",
       "  <tbody>\n",
       "    <tr>\n",
       "      <th>Alkaloids</th>\n",
       "      <td>105</td>\n",
       "      <td>105</td>\n",
       "      <td>105</td>\n",
       "      <td>105</td>\n",
       "      <td>105</td>\n",
       "    </tr>\n",
       "    <tr>\n",
       "      <th>Amino acids and Peptides</th>\n",
       "      <td>47</td>\n",
       "      <td>47</td>\n",
       "      <td>47</td>\n",
       "      <td>47</td>\n",
       "      <td>47</td>\n",
       "    </tr>\n",
       "    <tr>\n",
       "      <th>Carbohydrates</th>\n",
       "      <td>15</td>\n",
       "      <td>15</td>\n",
       "      <td>15</td>\n",
       "      <td>15</td>\n",
       "      <td>15</td>\n",
       "    </tr>\n",
       "    <tr>\n",
       "      <th>Fatty acids</th>\n",
       "      <td>44</td>\n",
       "      <td>44</td>\n",
       "      <td>44</td>\n",
       "      <td>44</td>\n",
       "      <td>44</td>\n",
       "    </tr>\n",
       "    <tr>\n",
       "      <th>Polyketides</th>\n",
       "      <td>19</td>\n",
       "      <td>19</td>\n",
       "      <td>19</td>\n",
       "      <td>19</td>\n",
       "      <td>19</td>\n",
       "    </tr>\n",
       "    <tr>\n",
       "      <th>Shikimates and Phenylpropanoids</th>\n",
       "      <td>62</td>\n",
       "      <td>62</td>\n",
       "      <td>62</td>\n",
       "      <td>62</td>\n",
       "      <td>62</td>\n",
       "    </tr>\n",
       "    <tr>\n",
       "      <th>Terpenoids</th>\n",
       "      <td>72</td>\n",
       "      <td>72</td>\n",
       "      <td>72</td>\n",
       "      <td>72</td>\n",
       "      <td>72</td>\n",
       "    </tr>\n",
       "  </tbody>\n",
       "</table>\n",
       "</div>"
      ],
      "text/plain": [
       "                                 row ID  adduct (sirius)  MF (sirius)  \\\n",
       "NPC#pathway                                                             \n",
       "Alkaloids                           105              105          105   \n",
       "Amino acids and Peptides             47               47           47   \n",
       "Carbohydrates                        15               15           15   \n",
       "Fatty acids                          44               44           44   \n",
       "Polyketides                          19               19           19   \n",
       "Shikimates and Phenylpropanoids      62               62           62   \n",
       "Terpenoids                           72               72           72   \n",
       "\n",
       "                                 NPC#superclass  NPC#class  \n",
       "NPC#pathway                                                 \n",
       "Alkaloids                                   105        105  \n",
       "Amino acids and Peptides                     47         47  \n",
       "Carbohydrates                                15         15  \n",
       "Fatty acids                                  44         44  \n",
       "Polyketides                                  19         19  \n",
       "Shikimates and Phenylpropanoids              62         62  \n",
       "Terpenoids                                   72         72  "
      ]
     },
     "execution_count": 15,
     "metadata": {},
     "output_type": "execute_result"
    }
   ],
   "source": [
    "dfg = canopus_df.groupby(['NPC#pathway']).count()\n",
    "dfg\n"
   ]
  },
  {
   "cell_type": "code",
   "execution_count": 16,
   "metadata": {},
   "outputs": [],
   "source": [
    "sample_dir='Set Clematis 10 species'\n",
    "organism='Q-tof positive ionization mode'\n",
    "sunburst_count_plotter(repository_path, canopus_df, organism)\n"
   ]
  }
 ],
 "metadata": {
  "kernelspec": {
   "display_name": "base",
   "language": "python",
   "name": "python3"
  },
  "language_info": {
   "codemirror_mode": {
    "name": "ipython",
    "version": 3
   },
   "file_extension": ".py",
   "mimetype": "text/x-python",
   "name": "python",
   "nbconvert_exporter": "python",
   "pygments_lexer": "ipython3",
   "version": "3.11.5"
  }
 },
 "nbformat": 4,
 "nbformat_minor": 2
}
